{
  "nbformat": 4,
  "nbformat_minor": 0,
  "metadata": {
    "colab": {
      "provenance": [],
      "toc_visible": true,
      "authorship_tag": "ABX9TyOd6VtkSJ0DeAd9XQIt+Y5R",
      "include_colab_link": true
    },
    "kernelspec": {
      "name": "python3",
      "display_name": "Python 3"
    },
    "language_info": {
      "name": "python"
    }
  },
  "cells": [
    {
      "cell_type": "markdown",
      "metadata": {
        "id": "view-in-github",
        "colab_type": "text"
      },
      "source": [
        "<a href=\"https://colab.research.google.com/github/ds185429/DNAX-DeepNLPAnalyzerX-/blob/main/DNAX_NLP_Algorithm.ipynb\" target=\"_parent\"><img src=\"https://colab.research.google.com/assets/colab-badge.svg\" alt=\"Open In Colab\"/></a>"
      ]
    },
    {
      "cell_type": "markdown",
      "source": [],
      "metadata": {
        "id": "bop_slCvG7z7"
      }
    },
    {
      "cell_type": "markdown",
      "source": [
        "# **Installing the NLP Algorithm library**"
      ],
      "metadata": {
        "id": "xiCRkjvylPTn"
      }
    },
    {
      "cell_type": "code",
      "source": [
        "!pip install pyphonetics\n",
        "class color:\n",
        "   PURPLE = '\\033[95m'\n",
        "   CYAN = '\\033[96m'\n",
        "   DARKCYAN = '\\033[36m'\n",
        "   BLUE = '\\033[94m'\n",
        "   GREEN = '\\033[92m'\n",
        "   YELLOW = '\\033[93m'\n",
        "   RED = '\\033[91m'\n",
        "   BOLD = '\\033[1m'\n",
        "   UNDERLINE = '\\033[4m'\n",
        "   END = '\\033[0m'"
      ],
      "metadata": {
        "colab": {
          "base_uri": "https://localhost:8080/"
        },
        "id": "4BBPEY2-XmUU",
        "outputId": "20e76539-5c97-4e28-acef-2de2100a5bba"
      },
      "execution_count": null,
      "outputs": [
        {
          "output_type": "stream",
          "name": "stdout",
          "text": [
            "Looking in indexes: https://pypi.org/simple, https://us-python.pkg.dev/colab-wheels/public/simple/\n",
            "Collecting pyphonetics\n",
            "  Downloading pyphonetics-0.5.3-py2.py3-none-any.whl (10 kB)\n",
            "Collecting unidecode<2,>=1\n",
            "  Downloading Unidecode-1.3.6-py3-none-any.whl (235 kB)\n",
            "\u001b[2K     \u001b[90m━━━━━━━━━━━━━━━━━━━━━━━━━━━━━━━━━━━━━━━\u001b[0m \u001b[32m235.9/235.9 kB\u001b[0m \u001b[31m5.1 MB/s\u001b[0m eta \u001b[36m0:00:00\u001b[0m\n",
            "\u001b[?25hInstalling collected packages: unidecode, pyphonetics\n",
            "Successfully installed pyphonetics-0.5.3 unidecode-1.3.6\n"
          ]
        }
      ]
    },
    {
      "cell_type": "markdown",
      "source": [
        "# **Importing Libraries**"
      ],
      "metadata": {
        "id": "DQvLo42tqGwK"
      }
    },
    {
      "cell_type": "code",
      "source": [
        "import pandas as pd\n",
        "from pyphonetics import Soundex, RefinedSoundex"
      ],
      "metadata": {
        "id": "uyRiZdCGqDRx"
      },
      "execution_count": null,
      "outputs": []
    },
    {
      "cell_type": "markdown",
      "source": [
        "# **Refined Dataset Recieved from Deep Learning Model**"
      ],
      "metadata": {
        "id": "W0c4__v-lXuz"
      }
    },
    {
      "cell_type": "code",
      "source": [
        "# Extracting Data from Excel file but for now created json data for not uploading data file again & again\n",
        "\n",
        "excel_data = [{'Errors': 'ActionCommand, Volume(-1)', 'Team Resolved': 'SSCOI', 'Steps to Resolve it': 'Install NGUI_v1.2.5_b038_Hotfix_v1 or above to resolve this issue!!!'}, {'Errors': 'Disabled SayPrice', 'Team Resolved': 'SSCOI', 'Steps to Resolve it': 'Seems configuration seetting is kept as SayPrices=N in Scotopts.000 files.'}, {'Errors': 'Disabled Note Recylcer', 'Team Resolved': 'SSCOI', 'Steps to Resolve it': 'Seems configuration seetting is kept as AllowNoteDispense=N in Scotopts.000 files.'}, {'Errors': 'No Play', 'Team Resolved': 'SSCOT', 'Steps to Resolve it': 'No Play'}, {'Errors': 'Fun not fun ', 'Team Resolved': 'SSCOI', 'Steps to Resolve it': 'Fun not fun '}, {'Errors': 'Game no game', 'Team Resolved': 'L3', 'Steps to Resolve it': 'Game no game'}, {'Errors': 'Car no car', 'Team Resolved': 'L4', 'Steps to Resolve it': 'Car no car'}, {'Errors': 'Tea no Tea', 'Team Resolved': 'L5', 'Steps to Resolve it': 'Tea no Tea'}, {'Errors': 'Device returns error = 10000', 'Team Resolved': 'SSPSW', 'Steps to Resolve it': 'Install CADD_Full_Update_v1.9+ Patch_v3.4 or above!!!'}]\n",
        "data = pd.DataFrame(excel_data, columns=[\n",
        "                    'Errors', 'Team Resolved', 'Steps to Resolve it'])\n",
        "\n",
        "print(\"The content of the file is:\\n\\n\", color.BOLD + data + color.END)\n"
      ],
      "metadata": {
        "colab": {
          "base_uri": "https://localhost:8080/"
        },
        "id": "imUZAYuMFDzu",
        "outputId": "e5a78733-8b69-47f9-9c3d-d3738d905114"
      },
      "execution_count": null,
      "outputs": [
        {
          "output_type": "stream",
          "name": "stdout",
          "text": [
            "The content of the file is:\n",
            "\n",
            "                                  Errors  Team Resolved  \\\n",
            "0     \u001b[1mActionCommand, Volume(-1)\u001b[0m  \u001b[1mSSCOI\u001b[0m   \n",
            "1             \u001b[1mDisabled SayPrice\u001b[0m  \u001b[1mSSCOI\u001b[0m   \n",
            "2        \u001b[1mDisabled Note Recylcer\u001b[0m  \u001b[1mSSCOI\u001b[0m   \n",
            "3                       \u001b[1mNo Play\u001b[0m  \u001b[1mSSCOT\u001b[0m   \n",
            "4                  \u001b[1mFun not fun \u001b[0m  \u001b[1mSSCOI\u001b[0m   \n",
            "5                  \u001b[1mGame no game\u001b[0m     \u001b[1mL3\u001b[0m   \n",
            "6                    \u001b[1mCar no car\u001b[0m     \u001b[1mL4\u001b[0m   \n",
            "7                    \u001b[1mTea no Tea\u001b[0m     \u001b[1mL5\u001b[0m   \n",
            "8  \u001b[1mDevice returns error = 10000\u001b[0m  \u001b[1mSSPSW\u001b[0m   \n",
            "\n",
            "                                 Steps to Resolve it  \n",
            "0  \u001b[1mInstall NGUI_v1.2.5_b038_Hotfix_v1 or abov...  \n",
            "1  \u001b[1mSeems configuration seetting is kept as Sa...  \n",
            "2  \u001b[1mSeems configuration seetting is kept as Al...  \n",
            "3                                    \u001b[1mNo Play\u001b[0m  \n",
            "4                               \u001b[1mFun not fun \u001b[0m  \n",
            "5                               \u001b[1mGame no game\u001b[0m  \n",
            "6                                 \u001b[1mCar no car\u001b[0m  \n",
            "7                                 \u001b[1mTea no Tea\u001b[0m  \n",
            "8  \u001b[1mInstall CADD_Full_Update_v1.9+ Patch_v3.4 ...  \n"
          ]
        }
      ]
    },
    {
      "cell_type": "markdown",
      "source": [
        "# **Scenario 1: It identifies error log pattern and offers resolution steps.**"
      ],
      "metadata": {
        "id": "9RTnCufAqzpL"
      }
    },
    {
      "cell_type": "markdown",
      "source": [
        "Error Text: **Device returns error=10000**"
      ],
      "metadata": {
        "id": "Afc1pedMrOaa"
      }
    },
    {
      "cell_type": "code",
      "source": [
        "soundex = Soundex()\n",
        "\n",
        "rs = RefinedSoundex()\n",
        "\n",
        "items = []\n",
        "for index, row in data.iterrows():\n",
        "  if soundex.sounds_like(row[\"Errors\"],'Device returns error=10000'):\n",
        "      print(color.BOLD + \"The Error found in your Diag: \" +color.RED + row[\"Errors\"] +\"\\n\\n\\n\" + color.END,color.BOLD + \"Please follow below steps as mentioned by that team: \\n\\n\\n\" + color.BLUE +  row[\"Steps to Resolve it\"] + color.END)\n"
      ],
      "metadata": {
        "colab": {
          "base_uri": "https://localhost:8080/"
        },
        "id": "xj_51D-xYIts",
        "outputId": "cfc34f4b-0b92-46f6-a083-a67bcc6d1d00"
      },
      "execution_count": null,
      "outputs": [
        {
          "output_type": "stream",
          "name": "stdout",
          "text": [
            "\u001b[1mThe Error found in your Diag: \u001b[91mDevice returns error = 10000\n",
            "\n",
            "\n",
            "\u001b[0m \u001b[1mPlease follow below steps as mentioned by that team: \n",
            "\n",
            "\n",
            "\u001b[94mInstall CADD_Full_Update_v1.9+ Patch_v3.4 or above!!!\u001b[0m\n"
          ]
        }
      ]
    },
    {
      "cell_type": "markdown",
      "source": [
        "# **Scenario 2: It identifies similar error log pattern and offers resolution steps.**"
      ],
      "metadata": {
        "id": "xCa7O2u9tvGc"
      }
    },
    {
      "cell_type": "markdown",
      "source": [
        "**Error Text: Devicereturnserror=10000**"
      ],
      "metadata": {
        "id": "Am7WALvIt3UL"
      }
    },
    {
      "cell_type": "code",
      "source": [
        "items = []\n",
        "for index, row in data.iterrows():\n",
        "  if soundex.sounds_like(row[\"Errors\"],'Devicereturnserror=10000'):\n",
        "      print(color.BOLD + \"The Error match in your Diag: \" +color.RED + row[\"Errors\"] +\"\\n\\n\\n\" + color.END,color.BOLD + \"Please follow below steps as mentioned by that team: \\n\\n\\n\" + color.BLUE +  row[\"Steps to Resolve it\"] + color.END)"
      ],
      "metadata": {
        "colab": {
          "base_uri": "https://localhost:8080/"
        },
        "id": "16RwsazgtmXi",
        "outputId": "fbb757af-aea6-4355-c506-09c457237112"
      },
      "execution_count": null,
      "outputs": [
        {
          "output_type": "stream",
          "name": "stdout",
          "text": [
            "\u001b[1mThe Error match in your Diag: \u001b[91mDevice returns error = 10000\n",
            "\n",
            "\n",
            "\u001b[0m \u001b[1mPlease follow below steps as mentioned by that team: \n",
            "\n",
            "\n",
            "\u001b[94mInstall CADD_Full_Update_v1.9+ Patch_v3.4 or above!!!\u001b[0m\n"
          ]
        }
      ]
    },
    {
      "cell_type": "markdown",
      "source": [
        "# **Scenario 3: It identifies similar error log pattern even wrong pattern came and offers resolution steps.**"
      ],
      "metadata": {
        "id": "EMX2rULTuLZV"
      }
    },
    {
      "cell_type": "markdown",
      "source": [
        "**Error Text: Devicir returns error=10000**"
      ],
      "metadata": {
        "id": "AlPWZWaPuSh_"
      }
    },
    {
      "cell_type": "code",
      "source": [
        "items = []\n",
        "for index, row in data.iterrows():\n",
        "  if soundex.sounds_like(row[\"Errors\"],'Devicir returns error=10000'):\n",
        "      print(color.BOLD + \"The Error matched in your Diag: \" +color.RED + row[\"Errors\"] +\"\\n\\n\\n\" + color.END,color.BOLD + \"Please follow below steps as mentioned by that team: \\n\\n\\n\" + color.BLUE +  row[\"Steps to Resolve it\"] + color.END)"
      ],
      "metadata": {
        "colab": {
          "base_uri": "https://localhost:8080/"
        },
        "id": "F02zUsk6uK-G",
        "outputId": "46a4e2d6-886a-4334-b491-0fa207d7614e"
      },
      "execution_count": null,
      "outputs": [
        {
          "output_type": "stream",
          "name": "stdout",
          "text": [
            "\u001b[1mThe Error matched in your Diag: \u001b[91mDevice returns error = 10000\n",
            "\n",
            "\n",
            "\u001b[0m \u001b[1mPlease follow below steps as mentioned by that team: \n",
            "\n",
            "\n",
            "\u001b[94mInstall CADD_Full_Update_v1.9+ Patch_v3.4 or above!!!\u001b[0m\n"
          ]
        }
      ]
    }
  ]
}
